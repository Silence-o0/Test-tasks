{
 "cells": [
  {
   "cell_type": "markdown",
   "id": "51a06ae7-0de1-4c9b-963a-904e9e11517d",
   "metadata": {
    "collapsed": true,
    "jupyter": {
     "outputs_hidden": true
    },
    "scrolled": true
   },
   "source": [
    "# Image classification + OOP\n",
    "\n",
    "First, we need to install the requirements if they haven't been installed yet."
   ]
  },
  {
   "cell_type": "code",
   "execution_count": 31,
   "id": "1d7513c3-d3a7-4ae1-8a6b-3916452e62ca",
   "metadata": {
    "scrolled": true
   },
   "outputs": [
    {
     "name": "stdout",
     "output_type": "stream",
     "text": [
      "Requirement already satisfied: absl-py==2.1.0 in c:\\users\\olga.zen-4qtib9v\\prog-projects\\pycharmprojects\\pr\\.venv\\lib\\site-packages (from -r requirements.txt (line 1)) (2.1.0)\n",
      "Requirement already satisfied: anyio==4.8.0 in c:\\users\\olga.zen-4qtib9v\\prog-projects\\pycharmprojects\\pr\\.venv\\lib\\site-packages (from -r requirements.txt (line 2)) (4.8.0)\n",
      "Requirement already satisfied: argon2-cffi==23.1.0 in c:\\users\\olga.zen-4qtib9v\\prog-projects\\pycharmprojects\\pr\\.venv\\lib\\site-packages (from -r requirements.txt (line 3)) (23.1.0)\n",
      "Requirement already satisfied: argon2-cffi-bindings==21.2.0 in c:\\users\\olga.zen-4qtib9v\\prog-projects\\pycharmprojects\\pr\\.venv\\lib\\site-packages (from -r requirements.txt (line 4)) (21.2.0)\n",
      "Requirement already satisfied: arrow==1.3.0 in c:\\users\\olga.zen-4qtib9v\\prog-projects\\pycharmprojects\\pr\\.venv\\lib\\site-packages (from -r requirements.txt (line 5)) (1.3.0)\n",
      "Requirement already satisfied: asttokens==3.0.0 in c:\\users\\olga.zen-4qtib9v\\prog-projects\\pycharmprojects\\pr\\.venv\\lib\\site-packages (from -r requirements.txt (line 6)) (3.0.0)\n",
      "Requirement already satisfied: astunparse==1.6.3 in c:\\users\\olga.zen-4qtib9v\\prog-projects\\pycharmprojects\\pr\\.venv\\lib\\site-packages (from -r requirements.txt (line 7)) (1.6.3)\n",
      "Requirement already satisfied: async-lru==2.0.4 in c:\\users\\olga.zen-4qtib9v\\prog-projects\\pycharmprojects\\pr\\.venv\\lib\\site-packages (from -r requirements.txt (line 8)) (2.0.4)\n",
      "Requirement already satisfied: attrs==25.1.0 in c:\\users\\olga.zen-4qtib9v\\prog-projects\\pycharmprojects\\pr\\.venv\\lib\\site-packages (from -r requirements.txt (line 9)) (25.1.0)\n",
      "Requirement already satisfied: babel==2.17.0 in c:\\users\\olga.zen-4qtib9v\\prog-projects\\pycharmprojects\\pr\\.venv\\lib\\site-packages (from -r requirements.txt (line 10)) (2.17.0)\n",
      "Requirement already satisfied: beautifulsoup4==4.13.3 in c:\\users\\olga.zen-4qtib9v\\prog-projects\\pycharmprojects\\pr\\.venv\\lib\\site-packages (from -r requirements.txt (line 11)) (4.13.3)\n",
      "Requirement already satisfied: bleach==6.2.0 in c:\\users\\olga.zen-4qtib9v\\prog-projects\\pycharmprojects\\pr\\.venv\\lib\\site-packages (from -r requirements.txt (line 12)) (6.2.0)\n",
      "Requirement already satisfied: certifi==2025.1.31 in c:\\users\\olga.zen-4qtib9v\\prog-projects\\pycharmprojects\\pr\\.venv\\lib\\site-packages (from -r requirements.txt (line 13)) (2025.1.31)\n",
      "Requirement already satisfied: cffi==1.17.1 in c:\\users\\olga.zen-4qtib9v\\prog-projects\\pycharmprojects\\pr\\.venv\\lib\\site-packages (from -r requirements.txt (line 14)) (1.17.1)\n",
      "Requirement already satisfied: charset-normalizer==3.4.1 in c:\\users\\olga.zen-4qtib9v\\prog-projects\\pycharmprojects\\pr\\.venv\\lib\\site-packages (from -r requirements.txt (line 15)) (3.4.1)\n",
      "Requirement already satisfied: colorama==0.4.6 in c:\\users\\olga.zen-4qtib9v\\prog-projects\\pycharmprojects\\pr\\.venv\\lib\\site-packages (from -r requirements.txt (line 16)) (0.4.6)\n",
      "Requirement already satisfied: comm==0.2.2 in c:\\users\\olga.zen-4qtib9v\\prog-projects\\pycharmprojects\\pr\\.venv\\lib\\site-packages (from -r requirements.txt (line 17)) (0.2.2)\n",
      "Requirement already satisfied: contourpy==1.3.1 in c:\\users\\olga.zen-4qtib9v\\prog-projects\\pycharmprojects\\pr\\.venv\\lib\\site-packages (from -r requirements.txt (line 18)) (1.3.1)\n",
      "Requirement already satisfied: cycler==0.12.1 in c:\\users\\olga.zen-4qtib9v\\prog-projects\\pycharmprojects\\pr\\.venv\\lib\\site-packages (from -r requirements.txt (line 19)) (0.12.1)\n",
      "Requirement already satisfied: debugpy==1.8.12 in c:\\users\\olga.zen-4qtib9v\\prog-projects\\pycharmprojects\\pr\\.venv\\lib\\site-packages (from -r requirements.txt (line 20)) (1.8.12)\n",
      "Requirement already satisfied: decorator==5.1.1 in c:\\users\\olga.zen-4qtib9v\\prog-projects\\pycharmprojects\\pr\\.venv\\lib\\site-packages (from -r requirements.txt (line 21)) (5.1.1)\n",
      "Requirement already satisfied: defusedxml==0.7.1 in c:\\users\\olga.zen-4qtib9v\\prog-projects\\pycharmprojects\\pr\\.venv\\lib\\site-packages (from -r requirements.txt (line 22)) (0.7.1)\n",
      "Requirement already satisfied: executing==2.2.0 in c:\\users\\olga.zen-4qtib9v\\prog-projects\\pycharmprojects\\pr\\.venv\\lib\\site-packages (from -r requirements.txt (line 23)) (2.2.0)\n",
      "Requirement already satisfied: fastjsonschema==2.21.1 in c:\\users\\olga.zen-4qtib9v\\prog-projects\\pycharmprojects\\pr\\.venv\\lib\\site-packages (from -r requirements.txt (line 24)) (2.21.1)\n",
      "Requirement already satisfied: flatbuffers==25.2.10 in c:\\users\\olga.zen-4qtib9v\\prog-projects\\pycharmprojects\\pr\\.venv\\lib\\site-packages (from -r requirements.txt (line 25)) (25.2.10)\n",
      "Requirement already satisfied: fonttools==4.56.0 in c:\\users\\olga.zen-4qtib9v\\prog-projects\\pycharmprojects\\pr\\.venv\\lib\\site-packages (from -r requirements.txt (line 26)) (4.56.0)\n",
      "Requirement already satisfied: fqdn==1.5.1 in c:\\users\\olga.zen-4qtib9v\\prog-projects\\pycharmprojects\\pr\\.venv\\lib\\site-packages (from -r requirements.txt (line 27)) (1.5.1)\n",
      "Requirement already satisfied: gast==0.6.0 in c:\\users\\olga.zen-4qtib9v\\prog-projects\\pycharmprojects\\pr\\.venv\\lib\\site-packages (from -r requirements.txt (line 28)) (0.6.0)\n",
      "Requirement already satisfied: google-pasta==0.2.0 in c:\\users\\olga.zen-4qtib9v\\prog-projects\\pycharmprojects\\pr\\.venv\\lib\\site-packages (from -r requirements.txt (line 29)) (0.2.0)\n",
      "Requirement already satisfied: grpcio==1.70.0 in c:\\users\\olga.zen-4qtib9v\\prog-projects\\pycharmprojects\\pr\\.venv\\lib\\site-packages (from -r requirements.txt (line 30)) (1.70.0)\n",
      "Requirement already satisfied: h11==0.14.0 in c:\\users\\olga.zen-4qtib9v\\prog-projects\\pycharmprojects\\pr\\.venv\\lib\\site-packages (from -r requirements.txt (line 31)) (0.14.0)\n",
      "Requirement already satisfied: h5py==3.13.0 in c:\\users\\olga.zen-4qtib9v\\prog-projects\\pycharmprojects\\pr\\.venv\\lib\\site-packages (from -r requirements.txt (line 32)) (3.13.0)\n",
      "Requirement already satisfied: httpcore==1.0.7 in c:\\users\\olga.zen-4qtib9v\\prog-projects\\pycharmprojects\\pr\\.venv\\lib\\site-packages (from -r requirements.txt (line 33)) (1.0.7)\n",
      "Requirement already satisfied: httpx==0.28.1 in c:\\users\\olga.zen-4qtib9v\\prog-projects\\pycharmprojects\\pr\\.venv\\lib\\site-packages (from -r requirements.txt (line 34)) (0.28.1)\n",
      "Requirement already satisfied: idna==3.10 in c:\\users\\olga.zen-4qtib9v\\prog-projects\\pycharmprojects\\pr\\.venv\\lib\\site-packages (from -r requirements.txt (line 35)) (3.10)\n",
      "Requirement already satisfied: ipykernel==6.29.5 in c:\\users\\olga.zen-4qtib9v\\prog-projects\\pycharmprojects\\pr\\.venv\\lib\\site-packages (from -r requirements.txt (line 36)) (6.29.5)\n",
      "Requirement already satisfied: ipython==8.32.0 in c:\\users\\olga.zen-4qtib9v\\prog-projects\\pycharmprojects\\pr\\.venv\\lib\\site-packages (from -r requirements.txt (line 37)) (8.32.0)\n",
      "Requirement already satisfied: ipywidgets==8.1.5 in c:\\users\\olga.zen-4qtib9v\\prog-projects\\pycharmprojects\\pr\\.venv\\lib\\site-packages (from -r requirements.txt (line 38)) (8.1.5)\n",
      "Requirement already satisfied: isoduration==20.11.0 in c:\\users\\olga.zen-4qtib9v\\prog-projects\\pycharmprojects\\pr\\.venv\\lib\\site-packages (from -r requirements.txt (line 39)) (20.11.0)\n",
      "Requirement already satisfied: jedi==0.19.2 in c:\\users\\olga.zen-4qtib9v\\prog-projects\\pycharmprojects\\pr\\.venv\\lib\\site-packages (from -r requirements.txt (line 40)) (0.19.2)\n",
      "Requirement already satisfied: Jinja2==3.1.5 in c:\\users\\olga.zen-4qtib9v\\prog-projects\\pycharmprojects\\pr\\.venv\\lib\\site-packages (from -r requirements.txt (line 41)) (3.1.5)\n",
      "Requirement already satisfied: joblib==1.4.2 in c:\\users\\olga.zen-4qtib9v\\prog-projects\\pycharmprojects\\pr\\.venv\\lib\\site-packages (from -r requirements.txt (line 42)) (1.4.2)\n",
      "Requirement already satisfied: json5==0.10.0 in c:\\users\\olga.zen-4qtib9v\\prog-projects\\pycharmprojects\\pr\\.venv\\lib\\site-packages (from -r requirements.txt (line 43)) (0.10.0)\n",
      "Requirement already satisfied: jsonpointer==3.0.0 in c:\\users\\olga.zen-4qtib9v\\prog-projects\\pycharmprojects\\pr\\.venv\\lib\\site-packages (from -r requirements.txt (line 44)) (3.0.0)\n",
      "Requirement already satisfied: jsonschema==4.23.0 in c:\\users\\olga.zen-4qtib9v\\prog-projects\\pycharmprojects\\pr\\.venv\\lib\\site-packages (from -r requirements.txt (line 45)) (4.23.0)\n",
      "Requirement already satisfied: jsonschema-specifications==2024.10.1 in c:\\users\\olga.zen-4qtib9v\\prog-projects\\pycharmprojects\\pr\\.venv\\lib\\site-packages (from -r requirements.txt (line 46)) (2024.10.1)\n",
      "Requirement already satisfied: jupyter==1.1.1 in c:\\users\\olga.zen-4qtib9v\\prog-projects\\pycharmprojects\\pr\\.venv\\lib\\site-packages (from -r requirements.txt (line 47)) (1.1.1)\n",
      "Requirement already satisfied: jupyter-console==6.6.3 in c:\\users\\olga.zen-4qtib9v\\prog-projects\\pycharmprojects\\pr\\.venv\\lib\\site-packages (from -r requirements.txt (line 48)) (6.6.3)\n",
      "Requirement already satisfied: jupyter-events==0.12.0 in c:\\users\\olga.zen-4qtib9v\\prog-projects\\pycharmprojects\\pr\\.venv\\lib\\site-packages (from -r requirements.txt (line 49)) (0.12.0)\n",
      "Requirement already satisfied: jupyter-lsp==2.2.5 in c:\\users\\olga.zen-4qtib9v\\prog-projects\\pycharmprojects\\pr\\.venv\\lib\\site-packages (from -r requirements.txt (line 50)) (2.2.5)\n",
      "Requirement already satisfied: jupyter_client==8.6.3 in c:\\users\\olga.zen-4qtib9v\\prog-projects\\pycharmprojects\\pr\\.venv\\lib\\site-packages (from -r requirements.txt (line 51)) (8.6.3)\n",
      "Requirement already satisfied: jupyter_core==5.7.2 in c:\\users\\olga.zen-4qtib9v\\prog-projects\\pycharmprojects\\pr\\.venv\\lib\\site-packages (from -r requirements.txt (line 52)) (5.7.2)\n",
      "Requirement already satisfied: jupyter_server==2.15.0 in c:\\users\\olga.zen-4qtib9v\\prog-projects\\pycharmprojects\\pr\\.venv\\lib\\site-packages (from -r requirements.txt (line 53)) (2.15.0)\n",
      "Requirement already satisfied: jupyter_server_terminals==0.5.3 in c:\\users\\olga.zen-4qtib9v\\prog-projects\\pycharmprojects\\pr\\.venv\\lib\\site-packages (from -r requirements.txt (line 54)) (0.5.3)\n",
      "Requirement already satisfied: jupyterlab==4.3.5 in c:\\users\\olga.zen-4qtib9v\\prog-projects\\pycharmprojects\\pr\\.venv\\lib\\site-packages (from -r requirements.txt (line 55)) (4.3.5)\n",
      "Requirement already satisfied: jupyterlab_pygments==0.3.0 in c:\\users\\olga.zen-4qtib9v\\prog-projects\\pycharmprojects\\pr\\.venv\\lib\\site-packages (from -r requirements.txt (line 56)) (0.3.0)\n",
      "Requirement already satisfied: jupyterlab_server==2.27.3 in c:\\users\\olga.zen-4qtib9v\\prog-projects\\pycharmprojects\\pr\\.venv\\lib\\site-packages (from -r requirements.txt (line 57)) (2.27.3)\n",
      "Requirement already satisfied: jupyterlab_widgets==3.0.13 in c:\\users\\olga.zen-4qtib9v\\prog-projects\\pycharmprojects\\pr\\.venv\\lib\\site-packages (from -r requirements.txt (line 58)) (3.0.13)\n",
      "Requirement already satisfied: keras==3.8.0 in c:\\users\\olga.zen-4qtib9v\\prog-projects\\pycharmprojects\\pr\\.venv\\lib\\site-packages (from -r requirements.txt (line 59)) (3.8.0)\n",
      "Requirement already satisfied: kiwisolver==1.4.8 in c:\\users\\olga.zen-4qtib9v\\prog-projects\\pycharmprojects\\pr\\.venv\\lib\\site-packages (from -r requirements.txt (line 60)) (1.4.8)\n",
      "Requirement already satisfied: libclang==18.1.1 in c:\\users\\olga.zen-4qtib9v\\prog-projects\\pycharmprojects\\pr\\.venv\\lib\\site-packages (from -r requirements.txt (line 61)) (18.1.1)\n",
      "Requirement already satisfied: Markdown==3.7 in c:\\users\\olga.zen-4qtib9v\\prog-projects\\pycharmprojects\\pr\\.venv\\lib\\site-packages (from -r requirements.txt (line 62)) (3.7)\n",
      "Requirement already satisfied: markdown-it-py==3.0.0 in c:\\users\\olga.zen-4qtib9v\\prog-projects\\pycharmprojects\\pr\\.venv\\lib\\site-packages (from -r requirements.txt (line 63)) (3.0.0)\n",
      "Requirement already satisfied: MarkupSafe==3.0.2 in c:\\users\\olga.zen-4qtib9v\\prog-projects\\pycharmprojects\\pr\\.venv\\lib\\site-packages (from -r requirements.txt (line 64)) (3.0.2)\n",
      "Requirement already satisfied: matplotlib==3.10.0 in c:\\users\\olga.zen-4qtib9v\\prog-projects\\pycharmprojects\\pr\\.venv\\lib\\site-packages (from -r requirements.txt (line 65)) (3.10.0)\n",
      "Requirement already satisfied: matplotlib-inline==0.1.7 in c:\\users\\olga.zen-4qtib9v\\prog-projects\\pycharmprojects\\pr\\.venv\\lib\\site-packages (from -r requirements.txt (line 66)) (0.1.7)\n",
      "Requirement already satisfied: mdurl==0.1.2 in c:\\users\\olga.zen-4qtib9v\\prog-projects\\pycharmprojects\\pr\\.venv\\lib\\site-packages (from -r requirements.txt (line 67)) (0.1.2)\n",
      "Requirement already satisfied: mistune==3.1.2 in c:\\users\\olga.zen-4qtib9v\\prog-projects\\pycharmprojects\\pr\\.venv\\lib\\site-packages (from -r requirements.txt (line 68)) (3.1.2)\n",
      "Requirement already satisfied: ml-dtypes==0.4.1 in c:\\users\\olga.zen-4qtib9v\\prog-projects\\pycharmprojects\\pr\\.venv\\lib\\site-packages (from -r requirements.txt (line 69)) (0.4.1)\n",
      "Requirement already satisfied: mnist==0.2.2 in c:\\users\\olga.zen-4qtib9v\\prog-projects\\pycharmprojects\\pr\\.venv\\lib\\site-packages (from -r requirements.txt (line 70)) (0.2.2)\n",
      "Requirement already satisfied: namex==0.0.8 in c:\\users\\olga.zen-4qtib9v\\prog-projects\\pycharmprojects\\pr\\.venv\\lib\\site-packages (from -r requirements.txt (line 71)) (0.0.8)\n",
      "Requirement already satisfied: nbclient==0.10.2 in c:\\users\\olga.zen-4qtib9v\\prog-projects\\pycharmprojects\\pr\\.venv\\lib\\site-packages (from -r requirements.txt (line 72)) (0.10.2)\n",
      "Requirement already satisfied: nbconvert==7.16.6 in c:\\users\\olga.zen-4qtib9v\\prog-projects\\pycharmprojects\\pr\\.venv\\lib\\site-packages (from -r requirements.txt (line 73)) (7.16.6)\n",
      "Requirement already satisfied: nbformat==5.10.4 in c:\\users\\olga.zen-4qtib9v\\prog-projects\\pycharmprojects\\pr\\.venv\\lib\\site-packages (from -r requirements.txt (line 74)) (5.10.4)\n",
      "Requirement already satisfied: nest-asyncio==1.6.0 in c:\\users\\olga.zen-4qtib9v\\prog-projects\\pycharmprojects\\pr\\.venv\\lib\\site-packages (from -r requirements.txt (line 75)) (1.6.0)\n",
      "Requirement already satisfied: notebook==7.3.2 in c:\\users\\olga.zen-4qtib9v\\prog-projects\\pycharmprojects\\pr\\.venv\\lib\\site-packages (from -r requirements.txt (line 76)) (7.3.2)\n",
      "Requirement already satisfied: notebook_shim==0.2.4 in c:\\users\\olga.zen-4qtib9v\\prog-projects\\pycharmprojects\\pr\\.venv\\lib\\site-packages (from -r requirements.txt (line 77)) (0.2.4)\n",
      "Requirement already satisfied: numpy==2.0.2 in c:\\users\\olga.zen-4qtib9v\\prog-projects\\pycharmprojects\\pr\\.venv\\lib\\site-packages (from -r requirements.txt (line 78)) (2.0.2)\n",
      "Requirement already satisfied: opt_einsum==3.4.0 in c:\\users\\olga.zen-4qtib9v\\prog-projects\\pycharmprojects\\pr\\.venv\\lib\\site-packages (from -r requirements.txt (line 79)) (3.4.0)\n",
      "Requirement already satisfied: optree==0.14.0 in c:\\users\\olga.zen-4qtib9v\\prog-projects\\pycharmprojects\\pr\\.venv\\lib\\site-packages (from -r requirements.txt (line 80)) (0.14.0)\n",
      "Requirement already satisfied: overrides==7.7.0 in c:\\users\\olga.zen-4qtib9v\\prog-projects\\pycharmprojects\\pr\\.venv\\lib\\site-packages (from -r requirements.txt (line 81)) (7.7.0)\n",
      "Requirement already satisfied: packaging==24.2 in c:\\users\\olga.zen-4qtib9v\\prog-projects\\pycharmprojects\\pr\\.venv\\lib\\site-packages (from -r requirements.txt (line 82)) (24.2)\n",
      "Requirement already satisfied: pandocfilters==1.5.1 in c:\\users\\olga.zen-4qtib9v\\prog-projects\\pycharmprojects\\pr\\.venv\\lib\\site-packages (from -r requirements.txt (line 83)) (1.5.1)\n",
      "Requirement already satisfied: parso==0.8.4 in c:\\users\\olga.zen-4qtib9v\\prog-projects\\pycharmprojects\\pr\\.venv\\lib\\site-packages (from -r requirements.txt (line 84)) (0.8.4)\n",
      "Requirement already satisfied: pillow==11.1.0 in c:\\users\\olga.zen-4qtib9v\\prog-projects\\pycharmprojects\\pr\\.venv\\lib\\site-packages (from -r requirements.txt (line 85)) (11.1.0)\n",
      "Requirement already satisfied: platformdirs==4.3.6 in c:\\users\\olga.zen-4qtib9v\\prog-projects\\pycharmprojects\\pr\\.venv\\lib\\site-packages (from -r requirements.txt (line 86)) (4.3.6)\n",
      "Requirement already satisfied: prometheus_client==0.21.1 in c:\\users\\olga.zen-4qtib9v\\prog-projects\\pycharmprojects\\pr\\.venv\\lib\\site-packages (from -r requirements.txt (line 87)) (0.21.1)\n",
      "Requirement already satisfied: prompt_toolkit==3.0.50 in c:\\users\\olga.zen-4qtib9v\\prog-projects\\pycharmprojects\\pr\\.venv\\lib\\site-packages (from -r requirements.txt (line 88)) (3.0.50)\n",
      "Requirement already satisfied: protobuf==5.29.3 in c:\\users\\olga.zen-4qtib9v\\prog-projects\\pycharmprojects\\pr\\.venv\\lib\\site-packages (from -r requirements.txt (line 89)) (5.29.3)\n",
      "Requirement already satisfied: psutil==7.0.0 in c:\\users\\olga.zen-4qtib9v\\prog-projects\\pycharmprojects\\pr\\.venv\\lib\\site-packages (from -r requirements.txt (line 90)) (7.0.0)\n",
      "Requirement already satisfied: pure_eval==0.2.3 in c:\\users\\olga.zen-4qtib9v\\prog-projects\\pycharmprojects\\pr\\.venv\\lib\\site-packages (from -r requirements.txt (line 91)) (0.2.3)\n",
      "Requirement already satisfied: pycparser==2.22 in c:\\users\\olga.zen-4qtib9v\\prog-projects\\pycharmprojects\\pr\\.venv\\lib\\site-packages (from -r requirements.txt (line 92)) (2.22)\n",
      "Requirement already satisfied: Pygments==2.19.1 in c:\\users\\olga.zen-4qtib9v\\prog-projects\\pycharmprojects\\pr\\.venv\\lib\\site-packages (from -r requirements.txt (line 93)) (2.19.1)\n",
      "Requirement already satisfied: pyparsing==3.2.1 in c:\\users\\olga.zen-4qtib9v\\prog-projects\\pycharmprojects\\pr\\.venv\\lib\\site-packages (from -r requirements.txt (line 94)) (3.2.1)\n",
      "Requirement already satisfied: python-dateutil==2.9.0.post0 in c:\\users\\olga.zen-4qtib9v\\prog-projects\\pycharmprojects\\pr\\.venv\\lib\\site-packages (from -r requirements.txt (line 95)) (2.9.0.post0)\n",
      "Requirement already satisfied: python-json-logger==3.2.1 in c:\\users\\olga.zen-4qtib9v\\prog-projects\\pycharmprojects\\pr\\.venv\\lib\\site-packages (from -r requirements.txt (line 96)) (3.2.1)\n",
      "Requirement already satisfied: pywin32==308 in c:\\users\\olga.zen-4qtib9v\\prog-projects\\pycharmprojects\\pr\\.venv\\lib\\site-packages (from -r requirements.txt (line 97)) (308)\n",
      "Requirement already satisfied: pywinpty==2.0.15 in c:\\users\\olga.zen-4qtib9v\\prog-projects\\pycharmprojects\\pr\\.venv\\lib\\site-packages (from -r requirements.txt (line 98)) (2.0.15)\n",
      "Requirement already satisfied: PyYAML==6.0.2 in c:\\users\\olga.zen-4qtib9v\\prog-projects\\pycharmprojects\\pr\\.venv\\lib\\site-packages (from -r requirements.txt (line 99)) (6.0.2)\n",
      "Requirement already satisfied: pyzmq==26.2.1 in c:\\users\\olga.zen-4qtib9v\\prog-projects\\pycharmprojects\\pr\\.venv\\lib\\site-packages (from -r requirements.txt (line 100)) (26.2.1)\n",
      "Requirement already satisfied: referencing==0.36.2 in c:\\users\\olga.zen-4qtib9v\\prog-projects\\pycharmprojects\\pr\\.venv\\lib\\site-packages (from -r requirements.txt (line 101)) (0.36.2)\n",
      "Requirement already satisfied: requests==2.32.3 in c:\\users\\olga.zen-4qtib9v\\prog-projects\\pycharmprojects\\pr\\.venv\\lib\\site-packages (from -r requirements.txt (line 102)) (2.32.3)\n",
      "Requirement already satisfied: rfc3339-validator==0.1.4 in c:\\users\\olga.zen-4qtib9v\\prog-projects\\pycharmprojects\\pr\\.venv\\lib\\site-packages (from -r requirements.txt (line 103)) (0.1.4)\n",
      "Requirement already satisfied: rfc3986-validator==0.1.1 in c:\\users\\olga.zen-4qtib9v\\prog-projects\\pycharmprojects\\pr\\.venv\\lib\\site-packages (from -r requirements.txt (line 104)) (0.1.1)\n",
      "Requirement already satisfied: rich==13.9.4 in c:\\users\\olga.zen-4qtib9v\\prog-projects\\pycharmprojects\\pr\\.venv\\lib\\site-packages (from -r requirements.txt (line 105)) (13.9.4)\n",
      "Requirement already satisfied: rpds-py==0.22.3 in c:\\users\\olga.zen-4qtib9v\\prog-projects\\pycharmprojects\\pr\\.venv\\lib\\site-packages (from -r requirements.txt (line 106)) (0.22.3)\n",
      "Requirement already satisfied: scikit-learn==1.6.1 in c:\\users\\olga.zen-4qtib9v\\prog-projects\\pycharmprojects\\pr\\.venv\\lib\\site-packages (from -r requirements.txt (line 107)) (1.6.1)\n",
      "Requirement already satisfied: scipy==1.15.2 in c:\\users\\olga.zen-4qtib9v\\prog-projects\\pycharmprojects\\pr\\.venv\\lib\\site-packages (from -r requirements.txt (line 108)) (1.15.2)\n",
      "Requirement already satisfied: Send2Trash==1.8.3 in c:\\users\\olga.zen-4qtib9v\\prog-projects\\pycharmprojects\\pr\\.venv\\lib\\site-packages (from -r requirements.txt (line 109)) (1.8.3)\n",
      "Requirement already satisfied: sequential==1.0.0 in c:\\users\\olga.zen-4qtib9v\\prog-projects\\pycharmprojects\\pr\\.venv\\lib\\site-packages (from -r requirements.txt (line 110)) (1.0.0)\n",
      "Requirement already satisfied: setuptools==75.8.0 in c:\\users\\olga.zen-4qtib9v\\prog-projects\\pycharmprojects\\pr\\.venv\\lib\\site-packages (from -r requirements.txt (line 111)) (75.8.0)\n",
      "Requirement already satisfied: six==1.17.0 in c:\\users\\olga.zen-4qtib9v\\prog-projects\\pycharmprojects\\pr\\.venv\\lib\\site-packages (from -r requirements.txt (line 112)) (1.17.0)\n",
      "Requirement already satisfied: sniffio==1.3.1 in c:\\users\\olga.zen-4qtib9v\\prog-projects\\pycharmprojects\\pr\\.venv\\lib\\site-packages (from -r requirements.txt (line 113)) (1.3.1)\n",
      "Requirement already satisfied: soupsieve==2.6 in c:\\users\\olga.zen-4qtib9v\\prog-projects\\pycharmprojects\\pr\\.venv\\lib\\site-packages (from -r requirements.txt (line 114)) (2.6)\n",
      "Requirement already satisfied: stack-data==0.6.3 in c:\\users\\olga.zen-4qtib9v\\prog-projects\\pycharmprojects\\pr\\.venv\\lib\\site-packages (from -r requirements.txt (line 115)) (0.6.3)\n",
      "Requirement already satisfied: tensorboard==2.18.0 in c:\\users\\olga.zen-4qtib9v\\prog-projects\\pycharmprojects\\pr\\.venv\\lib\\site-packages (from -r requirements.txt (line 116)) (2.18.0)\n",
      "Requirement already satisfied: tensorboard-data-server==0.7.2 in c:\\users\\olga.zen-4qtib9v\\prog-projects\\pycharmprojects\\pr\\.venv\\lib\\site-packages (from -r requirements.txt (line 117)) (0.7.2)\n",
      "Requirement already satisfied: tensorflow==2.18.0 in c:\\users\\olga.zen-4qtib9v\\prog-projects\\pycharmprojects\\pr\\.venv\\lib\\site-packages (from -r requirements.txt (line 118)) (2.18.0)\n",
      "Requirement already satisfied: tensorflow_intel==2.18.0 in c:\\users\\olga.zen-4qtib9v\\prog-projects\\pycharmprojects\\pr\\.venv\\lib\\site-packages (from -r requirements.txt (line 119)) (2.18.0)\n",
      "Requirement already satisfied: termcolor==2.5.0 in c:\\users\\olga.zen-4qtib9v\\prog-projects\\pycharmprojects\\pr\\.venv\\lib\\site-packages (from -r requirements.txt (line 120)) (2.5.0)\n",
      "Requirement already satisfied: terminado==0.18.1 in c:\\users\\olga.zen-4qtib9v\\prog-projects\\pycharmprojects\\pr\\.venv\\lib\\site-packages (from -r requirements.txt (line 121)) (0.18.1)\n",
      "Requirement already satisfied: threadpoolctl==3.5.0 in c:\\users\\olga.zen-4qtib9v\\prog-projects\\pycharmprojects\\pr\\.venv\\lib\\site-packages (from -r requirements.txt (line 122)) (3.5.0)\n",
      "Requirement already satisfied: tinycss2==1.4.0 in c:\\users\\olga.zen-4qtib9v\\prog-projects\\pycharmprojects\\pr\\.venv\\lib\\site-packages (from -r requirements.txt (line 123)) (1.4.0)\n",
      "Requirement already satisfied: tornado==6.4.2 in c:\\users\\olga.zen-4qtib9v\\prog-projects\\pycharmprojects\\pr\\.venv\\lib\\site-packages (from -r requirements.txt (line 124)) (6.4.2)\n",
      "Requirement already satisfied: traitlets==5.14.3 in c:\\users\\olga.zen-4qtib9v\\prog-projects\\pycharmprojects\\pr\\.venv\\lib\\site-packages (from -r requirements.txt (line 125)) (5.14.3)\n",
      "Requirement already satisfied: types-python-dateutil==2.9.0.20241206 in c:\\users\\olga.zen-4qtib9v\\prog-projects\\pycharmprojects\\pr\\.venv\\lib\\site-packages (from -r requirements.txt (line 126)) (2.9.0.20241206)\n",
      "Requirement already satisfied: typing_extensions==4.12.2 in c:\\users\\olga.zen-4qtib9v\\prog-projects\\pycharmprojects\\pr\\.venv\\lib\\site-packages (from -r requirements.txt (line 127)) (4.12.2)\n",
      "Requirement already satisfied: uri-template==1.3.0 in c:\\users\\olga.zen-4qtib9v\\prog-projects\\pycharmprojects\\pr\\.venv\\lib\\site-packages (from -r requirements.txt (line 128)) (1.3.0)\n",
      "Requirement already satisfied: urllib3==2.3.0 in c:\\users\\olga.zen-4qtib9v\\prog-projects\\pycharmprojects\\pr\\.venv\\lib\\site-packages (from -r requirements.txt (line 129)) (2.3.0)\n",
      "Requirement already satisfied: wcwidth==0.2.13 in c:\\users\\olga.zen-4qtib9v\\prog-projects\\pycharmprojects\\pr\\.venv\\lib\\site-packages (from -r requirements.txt (line 130)) (0.2.13)\n",
      "Requirement already satisfied: webcolors==24.11.1 in c:\\users\\olga.zen-4qtib9v\\prog-projects\\pycharmprojects\\pr\\.venv\\lib\\site-packages (from -r requirements.txt (line 131)) (24.11.1)\n",
      "Requirement already satisfied: webencodings==0.5.1 in c:\\users\\olga.zen-4qtib9v\\prog-projects\\pycharmprojects\\pr\\.venv\\lib\\site-packages (from -r requirements.txt (line 132)) (0.5.1)\n",
      "Requirement already satisfied: websocket-client==1.8.0 in c:\\users\\olga.zen-4qtib9v\\prog-projects\\pycharmprojects\\pr\\.venv\\lib\\site-packages (from -r requirements.txt (line 133)) (1.8.0)\n",
      "Requirement already satisfied: Werkzeug==3.1.3 in c:\\users\\olga.zen-4qtib9v\\prog-projects\\pycharmprojects\\pr\\.venv\\lib\\site-packages (from -r requirements.txt (line 134)) (3.1.3)\n",
      "Requirement already satisfied: wheel==0.45.1 in c:\\users\\olga.zen-4qtib9v\\prog-projects\\pycharmprojects\\pr\\.venv\\lib\\site-packages (from -r requirements.txt (line 135)) (0.45.1)\n",
      "Requirement already satisfied: widgetsnbextension==4.0.13 in c:\\users\\olga.zen-4qtib9v\\prog-projects\\pycharmprojects\\pr\\.venv\\lib\\site-packages (from -r requirements.txt (line 136)) (4.0.13)\n",
      "Requirement already satisfied: wrapt==1.17.2 in c:\\users\\olga.zen-4qtib9v\\prog-projects\\pycharmprojects\\pr\\.venv\\lib\\site-packages (from -r requirements.txt (line 137)) (1.17.2)\n"
     ]
    }
   ],
   "source": [
    "!pip install -r requirements.txt"
   ]
  },
  {
   "cell_type": "markdown",
   "id": "37e65e3d-5d67-4749-84f0-9889f6146883",
   "metadata": {
    "collapsed": true,
    "jupyter": {
     "outputs_hidden": true
    },
    "scrolled": true
   },
   "source": [
    "## Dataset analysis\n",
    "\n",
    "We are using mnist dataset for hand-written digits classification from tensorflow.keras.datasets. This dataset contains images of 10 classes (digits).\n",
    "We start dataset analysis with libraries importing."
   ]
  },
  {
   "cell_type": "code",
   "execution_count": 32,
   "id": "44eb2afe-5557-4a2a-97ef-55dccbce519c",
   "metadata": {},
   "outputs": [],
   "source": [
    "import numpy as np\n",
    "import matplotlib.pyplot as plt\n",
    "from tensorflow.keras.datasets import mnist"
   ]
  },
  {
   "cell_type": "markdown",
   "id": "4bf2bf3b-d90a-4205-93ab-744087b5662c",
   "metadata": {},
   "source": [
    "Load train and test parts of dataset. X is pixels of each image, y is label that represents a class of each image."
   ]
  },
  {
   "cell_type": "code",
   "execution_count": 33,
   "id": "03936824-a543-4393-9510-3894b84f013c",
   "metadata": {},
   "outputs": [],
   "source": [
    "(X_train, y_train), (X_test, y_test) = mnist.load_data()"
   ]
  },
  {
   "cell_type": "markdown",
   "id": "09157766-4f66-4c3f-bd83-3404c11410f5",
   "metadata": {},
   "source": [
    "We can see that training dataset has 60000 images with size 28x28 pixels, test data has 10000 images with the same size."
   ]
  },
  {
   "cell_type": "code",
   "execution_count": 34,
   "id": "05e40257-e11f-4b57-b67a-a4f4fc53dad2",
   "metadata": {},
   "outputs": [
    {
     "name": "stdout",
     "output_type": "stream",
     "text": [
      "Training data shape: (60000, 28, 28)\n",
      "Test data shape: (10000, 28, 28)\n",
      "Number of classes: 10\n",
      "10 examples of labels: [5 0 4 1 9 2 1 3 1 4]\n"
     ]
    }
   ],
   "source": [
    "print(f\"Training data shape: {X_train.shape}\")\n",
    "print(f\"Test data shape: {X_test.shape}\")\n",
    "print(f\"Number of classes: {len(np.unique(y_train))}\")\n",
    "print(f\"10 examples of labels: {y_train[:10]}\")"
   ]
  },
  {
   "cell_type": "markdown",
   "id": "ee4bbef2-82a2-485a-a288-d128f0e2ff2e",
   "metadata": {},
   "source": [
    "There is a few random samples of images below"
   ]
  },
  {
   "cell_type": "code",
   "execution_count": 35,
   "id": "88c5f9ee-4759-422d-9c7f-3ffe52ab52e3",
   "metadata": {},
   "outputs": [
    {
     "data": {
      "image/png": "[encoded data removed]",
      "text/plain": [
       "<Figure size 800x800 with 5 Axes>"
      ]
     },
     "metadata": {},
     "output_type": "display_data"
    }
   ],
   "source": [
    "random_indices = np.random.choice(len(X_train), size=5, replace=False)\n",
    "\n",
    "plt.figure(figsize=(8, 8))\n",
    "for i, idx in enumerate(random_indices):\n",
    "    plt.subplot(5, 5, i + 1)\n",
    "    plt.imshow(X_train[idx], cmap='gray')\n",
    "    plt.title(f\"Label: {y_train[idx]}\")\n",
    "    plt.axis('off')\n",
    "plt.show()"
   ]
  },
  {
   "cell_type": "markdown",
   "id": "ad37d56d-a2e4-410a-ac3d-b5bd6a3be665",
   "metadata": {},
   "source": [
    "We can see class distribution in training dataset below. The dataset is relatively balanced, with each class having approximately the same number of samples."
   ]
  },
  {
   "cell_type": "code",
   "execution_count": 36,
   "id": "424a2c44-f933-47ae-8dc4-a3eeaa3fcaf1",
   "metadata": {},
   "outputs": [
    {
     "data": {
      "image/png": "[encoded data removed]",
      "text/plain": [
       "<Figure size 1000x500 with 1 Axes>"
      ]
     },
     "metadata": {},
     "output_type": "display_data"
    }
   ],
   "source": [
    "unique, counts = np.unique(y_train, return_counts=True)\n",
    "\n",
    "plt.figure(figsize=(10, 5))\n",
    "plt.bar(unique, counts, color='skyblue')\n",
    "plt.title(\"Class Distribution in Training Data\")\n",
    "plt.xlabel(\"Class\")\n",
    "plt.ylabel(\"Number of Images\")\n",
    "plt.xticks(unique)\n",
    "plt.show()"
   ]
  },
  {
   "cell_type": "markdown",
   "id": "5d42661b-8a51-4f48-a4c2-ce35b8348945",
   "metadata": {},
   "source": [
    "## Examples of code running\n",
    "\n",
    "This project provide only 3 algorithms: cnn, rf, nn.\n",
    "\n",
    "Training classification model using a Random Forest algorithm (rf)."
   ]
  },
  {
   "cell_type": "code",
   "execution_count": 42,
   "id": "fb79e829-baca-4fe4-b011-cb4832f185f9",
   "metadata": {},
   "outputs": [
    {
     "name": "stdout",
     "output_type": "stream",
     "text": [
      "Training rf model...\n",
      "rf accuracy: 96.90%\n"
     ]
    },
    {
     "name": "stderr",
     "output_type": "stream",
     "text": [
      "2025-02-19 20:08:16.604029: I tensorflow/core/util/port.cc:153] oneDNN custom operations are on. You may see slightly different numerical results due to floating-point round-off errors from different computation orders. To turn them off, set the environment variable `TF_ENABLE_ONEDNN_OPTS=0`.\n",
      "2025-02-19 20:08:18.549336: I tensorflow/core/util/port.cc:153] oneDNN custom operations are on. You may see slightly different numerical results due to floating-point round-off errors from different computation orders. To turn them off, set the environment variable `TF_ENABLE_ONEDNN_OPTS=0`.\n"
     ]
    }
   ],
   "source": [
    "!python classifier.py rf"
   ]
  },
  {
   "cell_type": "markdown",
   "id": "703d6c84-7e1e-41ce-84b5-22c4930d160a",
   "metadata": {},
   "source": [
    "Training classification model using Feed-Forward Neural Network (nn)."
   ]
  },
  {
   "cell_type": "code",
   "execution_count": 43,
   "id": "61915b86-c4c9-424f-8ee4-d3d0f72636f9",
   "metadata": {},
   "outputs": [
    {
     "name": "stdout",
     "output_type": "stream",
     "text": [
      "Training nn model..."
     ]
    },
    {
     "name": "stderr",
     "output_type": "stream",
     "text": [
      "2025-02-19 20:09:16.931810: I tensorflow/core/util/port.cc:153] oneDNN custom operations are on. You may see slightly different numerical results due to floating-point round-off errors from different computation orders. To turn them off, set the environment variable `TF_ENABLE_ONEDNN_OPTS=0`.\n",
      "2025-02-19 20:09:18.755197: I tensorflow/core/util/port.cc:153] oneDNN custom operations are on. You may see slightly different numerical results due to floating-point round-off errors from different computation orders. To turn them off, set the environment variable `TF_ENABLE_ONEDNN_OPTS=0`.\n",
      "2025-02-19 20:09:24.770002: I tensorflow/core/platform/cpu_feature_guard.cc:210] This TensorFlow binary is optimized to use available CPU instructions in performance-critical operations.\n",
      "To enable the following instructions: AVX2 AVX512F AVX512_VNNI FMA, in other operations, rebuild TensorFlow with the appropriate compiler flags.\n"
     ]
    },
    {
     "name": "stdout",
     "output_type": "stream",
     "text": [
      "\n",
      "Epoch 1/10\n",
      "938/938 - 3s - 3ms/step - accuracy: 0.9148 - loss: 0.3007\n",
      "Epoch 2/10\n",
      "938/938 - 2s - 2ms/step - accuracy: 0.9599 - loss: 0.1356\n",
      "Epoch 3/10\n",
      "938/938 - 2s - 2ms/step - accuracy: 0.9729 - loss: 0.0931\n",
      "Epoch 4/10\n",
      "938/938 - 2s - 2ms/step - accuracy: 0.9783 - loss: 0.0716\n",
      "Epoch 5/10\n",
      "938/938 - 2s - 2ms/step - accuracy: 0.9833 - loss: 0.0563\n",
      "Epoch 6/10\n",
      "938/938 - 2s - 2ms/step - accuracy: 0.9870 - loss: 0.0447\n",
      "Epoch 7/10\n",
      "938/938 - 2s - 2ms/step - accuracy: 0.9893 - loss: 0.0372\n",
      "Epoch 8/10\n",
      "938/938 - 1s - 2ms/step - accuracy: 0.9909 - loss: 0.0302\n",
      "Epoch 9/10\n",
      "938/938 - 2s - 2ms/step - accuracy: 0.9930 - loss: 0.0249\n",
      "Epoch 10/10\n",
      "938/938 - 1s - 1ms/step - accuracy: 0.9944 - loss: 0.0202\n",
      "\n",
      "\u001b[1m  1/313\u001b[0m \u001b[37m====================\u001b[0m \u001b[1m20s\u001b[0m 65ms/step\n",
      "\u001b[1m 47/313\u001b[0m \u001b[32m===\u001b[0m\u001b[37m=================\u001b[0m \u001b[1m0s\u001b[0m 1ms/step  \n",
      "\u001b[1m 69/313\u001b[0m \u001b[32m====\u001b[0m\u001b[37m================\u001b[0m \u001b[1m0s\u001b[0m 2ms/step\n",
      "\u001b[1m120/313\u001b[0m \u001b[32m=======\u001b[0m\u001b[37m=============\u001b[0m \u001b[1m0s\u001b[0m 1ms/step\n",
      "\u001b[1m179/313\u001b[0m \u001b[32m===========\u001b[0m\u001b[37m=========\u001b[0m \u001b[1m0s\u001b[0m 1ms/step\n",
      "\u001b[1m215/313\u001b[0m \u001b[32m=============\u001b[0m\u001b[37m=======\u001b[0m \u001b[1m0s\u001b[0m 1ms/step\n",
      "\u001b[1m288/313\u001b[0m \u001b[32m==================\u001b[0m\u001b[37m==\u001b[0m \u001b[1m0s\u001b[0m 1ms/step\n",
      "\u001b[1m313/313\u001b[0m \u001b[32m====================\u001b[0m\u001b[37m\u001b[0m \u001b[1m0s\u001b[0m 1ms/step\n",
      "nn accuracy: 97.79%\n"
     ]
    }
   ],
   "source": [
    "!python classifier.py nn"
   ]
  },
  {
   "cell_type": "markdown",
   "id": "23521762-3e69-4edf-a871-ee3062276c5a",
   "metadata": {},
   "source": [
    "Training classification model using Convolutional Neural Network (cnn)."
   ]
  },
  {
   "cell_type": "code",
   "execution_count": 44,
   "id": "33b49df9-b1fb-460a-b68d-b7620e5f23a1",
   "metadata": {},
   "outputs": [
    {
     "name": "stdout",
     "output_type": "stream",
     "text": [
      "Training cnn model...\n",
      "Epoch 1/10\n",
      "938/938 - 8s - 9ms/step - accuracy: 0.9473 - loss: 0.1804\n",
      "Epoch 2/10\n",
      "938/938 - 8s - 9ms/step - accuracy: 0.9827 - loss: 0.0586\n",
      "Epoch 3/10\n",
      "938/938 - 10s - 11ms/step - accuracy: 0.9886 - loss: 0.0391\n",
      "Epoch 4/10\n",
      "938/938 - 7s - 8ms/step - accuracy: 0.9918 - loss: 0.0273\n",
      "Epoch 5/10\n",
      "938/938 - 8s - 8ms/step - accuracy: 0.9940 - loss: 0.0194\n",
      "Epoch 6/10\n",
      "938/938 - 7s - 8ms/step - accuracy: 0.9957 - loss: 0.0139\n",
      "Epoch 7/10\n",
      "938/938 - 8s - 8ms/step - accuracy: 0.9964 - loss: 0.0112\n",
      "Epoch 8/10\n",
      "938/938 - 8s - 8ms/step - accuracy: 0.9982 - loss: 0.0068\n",
      "Epoch 9/10\n",
      "938/938 - 8s - 8ms/step - accuracy: 0.9980 - loss: 0.0067\n",
      "Epoch 10/10\n",
      "938/938 - 7s - 8ms/step - accuracy: 0.9982 - loss: 0.0052\n",
      "\n",
      "\u001b[1m  1/313\u001b[0m \u001b[37m====================\u001b[0m \u001b[1m20s\u001b[0m 67ms/step\n",
      "\u001b[1m 25/313\u001b[0m \u001b[32m=\u001b[0m\u001b[37m===================\u001b[0m \u001b[1m0s\u001b[0m 2ms/step  \n",
      "\u001b[1m 51/313\u001b[0m \u001b[32m===\u001b[0m\u001b[37m=================\u001b[0m \u001b[1m0s\u001b[0m 2ms/step\n",
      "\u001b[1m 77/313\u001b[0m \u001b[32m====\u001b[0m\u001b[37m================\u001b[0m \u001b[1m0s\u001b[0m 2ms/step\n",
      "\u001b[1m103/313\u001b[0m \u001b[32m======\u001b[0m\u001b[37m==============\u001b[0m \u001b[1m0s\u001b[0m 2ms/step\n",
      "\u001b[1m128/313\u001b[0m \u001b[32m========\u001b[0m\u001b[37m============\u001b[0m \u001b[1m0s\u001b[0m 2ms/step\n",
      "\u001b[1m154/313\u001b[0m \u001b[32m=========\u001b[0m\u001b[37m===========\u001b[0m \u001b[1m0s\u001b[0m 2ms/step\n",
      "\u001b[1m180/313\u001b[0m \u001b[32m===========\u001b[0m\u001b[37m=========\u001b[0m \u001b[1m0s\u001b[0m 2ms/step\n",
      "\u001b[1m205/313\u001b[0m \u001b[32m=============\u001b[0m\u001b[37m=======\u001b[0m \u001b[1m0s\u001b[0m 2ms/step\n",
      "\u001b[1m230/313\u001b[0m \u001b[32m==============\u001b[0m\u001b[37m======\u001b[0m \u001b[1m0s\u001b[0m 2ms/step\n",
      "\u001b[1m255/313\u001b[0m \u001b[32m================\u001b[0m\u001b[37m====\u001b[0m \u001b[1m0s\u001b[0m 2ms/step\n",
      "\u001b[1m281/313\u001b[0m \u001b[32m=================\u001b[0m\u001b[37m===\u001b[0m \u001b[1m0s\u001b[0m 2ms/step\n",
      "\u001b[1m308/313\u001b[0m \u001b[32m===================\u001b[0m\u001b[37m=\u001b[0m \u001b[1m0s\u001b[0m 2ms/step\n",
      "\u001b[1m313/313\u001b[0m \u001b[32m====================\u001b[0m\u001b[37m\u001b[0m \u001b[1m1s\u001b[0m 2ms/step\n",
      "cnn accuracy: 98.52%\n"
     ]
    },
    {
     "name": "stderr",
     "output_type": "stream",
     "text": [
      "2025-02-19 20:09:45.405393: I tensorflow/core/util/port.cc:153] oneDNN custom operations are on. You may see slightly different numerical results due to floating-point round-off errors from different computation orders. To turn them off, set the environment variable `TF_ENABLE_ONEDNN_OPTS=0`.\n",
      "2025-02-19 20:09:46.417694: I tensorflow/core/util/port.cc:153] oneDNN custom operations are on. You may see slightly different numerical results due to floating-point round-off errors from different computation orders. To turn them off, set the environment variable `TF_ENABLE_ONEDNN_OPTS=0`.\n",
      "C:\\Users\\Olga.ZEN-4QTIB9V\\Prog-projects\\PycharmProjects\\pr\\.venv\\Lib\\site-packages\\keras\\src\\layers\\convolutional\\base_conv.py:107: UserWarning: Do not pass an `input_shape`/`input_dim` argument to a layer. When using Sequential models, prefer using an `Input(shape)` object as the first layer in the model instead.\n",
      "  super().__init__(activity_regularizer=activity_regularizer, **kwargs)\n",
      "2025-02-19 20:09:50.358977: I tensorflow/core/platform/cpu_feature_guard.cc:210] This TensorFlow binary is optimized to use available CPU instructions in performance-critical operations.\n",
      "To enable the following instructions: AVX2 AVX512F AVX512_VNNI FMA, in other operations, rebuild TensorFlow with the appropriate compiler flags.\n"
     ]
    }
   ],
   "source": [
    "!python classifier.py cnn"
   ]
  },
  {
   "cell_type": "markdown",
   "id": "eda5b6cf-9fa3-4334-a36a-a7768db18ed0",
   "metadata": {},
   "source": [
    "Using an unprovided or unknown algorithm."
   ]
  },
  {
   "cell_type": "code",
   "execution_count": 47,
   "id": "c9fae9e7-6e38-42d5-9138-70b1bebb31a2",
   "metadata": {},
   "outputs": [
    {
     "name": "stdout",
     "output_type": "stream",
     "text": [
      "Error: Unknown algorithm. Please choose 'cnn', 'rf', or 'nn'.\n"
     ]
    },
    {
     "name": "stderr",
     "output_type": "stream",
     "text": [
      "2025-02-19 20:15:12.328150: I tensorflow/core/util/port.cc:153] oneDNN custom operations are on. You may see slightly different numerical results due to floating-point round-off errors from different computation orders. To turn them off, set the environment variable `TF_ENABLE_ONEDNN_OPTS=0`.\n",
      "2025-02-19 20:15:14.192589: I tensorflow/core/util/port.cc:153] oneDNN custom operations are on. You may see slightly different numerical results due to floating-point round-off errors from different computation orders. To turn them off, set the environment variable `TF_ENABLE_ONEDNN_OPTS=0`.\n"
     ]
    }
   ],
   "source": [
    "!python classifier.py knn"
   ]
  }
 ],
 "metadata": {
  "kernelspec": {
   "display_name": "Python 3 (ipykernel)",
   "language": "python",
   "name": "python3"
  },
  "language_info": {
   "codemirror_mode": {
    "name": "ipython",
    "version": 3
   },
   "file_extension": ".py",
   "mimetype": "text/x-python",
   "name": "python",
   "nbconvert_exporter": "python",
   "pygments_lexer": "ipython3",
   "version": "3.12.0"
  }
 },
 "nbformat": 4,
 "nbformat_minor": 5
}
